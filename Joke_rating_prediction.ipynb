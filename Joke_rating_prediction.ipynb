{
  "nbformat": 4,
  "nbformat_minor": 0,
  "metadata": {
    "accelerator": "GPU",
    "colab": {
      "name": "Joke_rating_prediction.ipynb",
      "provenance": [],
      "collapsed_sections": []
    },
    "kernelspec": {
      "display_name": "Python 3",
      "name": "python3"
    },
    "language_info": {
      "name": "python"
    }
  },
  "cells": [
    {
      "cell_type": "markdown",
      "metadata": {
        "id": "EW6orndnpjK2"
      },
      "source": [
        "## **Joke Rating Prediction with Surprise**"
      ]
    },
    {
      "cell_type": "code",
      "metadata": {
        "id": "1snmk8-WcaPn"
      },
      "source": [
        "import os \n",
        "import pandas as pd \n",
        "import numpy as np\n",
        "import matplotlib.pyplot as plt\n",
        "plt.style.use('fivethirtyeight')\n",
        "from surprise import SVD, Reader, Dataset\n",
        "from surprise.model_selection.validation import cross_validate\n",
        "from surprise.model_selection import GridSearchCV, train_test_split"
      ],
      "execution_count": null,
      "outputs": []
    },
    {
      "cell_type": "markdown",
      "metadata": {
        "id": "64L6kRLct1Qw"
      },
      "source": [
        "**Data**"
      ]
    },
    {
      "cell_type": "code",
      "metadata": {
        "id": "AKQIkZUtsi5V"
      },
      "source": [
        "train = pd.read_csv('train.csv')\n",
        "test = pd.read_csv('test.csv')\n",
        "jokes = pd.read_csv('jokes.csv')\n",
        "ss = pd.read_csv('sample_submission.csv')"
      ],
      "execution_count": null,
      "outputs": []
    },
    {
      "cell_type": "code",
      "metadata": {
        "colab": {
          "base_uri": "https://localhost:8080/",
          "height": 419
        },
        "id": "_AIhK2YalYs0",
        "outputId": "60eac689-07d0-4225-bf09-c6b8339051d9"
      },
      "source": [
        "train"
      ],
      "execution_count": null,
      "outputs": [
        {
          "output_type": "execute_result",
          "data": {
            "text/html": [
              "<div>\n",
              "<style scoped>\n",
              "    .dataframe tbody tr th:only-of-type {\n",
              "        vertical-align: middle;\n",
              "    }\n",
              "\n",
              "    .dataframe tbody tr th {\n",
              "        vertical-align: top;\n",
              "    }\n",
              "\n",
              "    .dataframe thead th {\n",
              "        text-align: right;\n",
              "    }\n",
              "</style>\n",
              "<table border=\"1\" class=\"dataframe\">\n",
              "  <thead>\n",
              "    <tr style=\"text-align: right;\">\n",
              "      <th></th>\n",
              "      <th>id</th>\n",
              "      <th>user_id</th>\n",
              "      <th>joke_id</th>\n",
              "      <th>Rating</th>\n",
              "    </tr>\n",
              "  </thead>\n",
              "  <tbody>\n",
              "    <tr>\n",
              "      <th>0</th>\n",
              "      <td>31030_110</td>\n",
              "      <td>31030</td>\n",
              "      <td>110</td>\n",
              "      <td>2.750</td>\n",
              "    </tr>\n",
              "    <tr>\n",
              "      <th>1</th>\n",
              "      <td>16144_109</td>\n",
              "      <td>16144</td>\n",
              "      <td>109</td>\n",
              "      <td>5.094</td>\n",
              "    </tr>\n",
              "    <tr>\n",
              "      <th>2</th>\n",
              "      <td>23098_6</td>\n",
              "      <td>23098</td>\n",
              "      <td>6</td>\n",
              "      <td>-6.438</td>\n",
              "    </tr>\n",
              "    <tr>\n",
              "      <th>3</th>\n",
              "      <td>14273_86</td>\n",
              "      <td>14273</td>\n",
              "      <td>86</td>\n",
              "      <td>4.406</td>\n",
              "    </tr>\n",
              "    <tr>\n",
              "      <th>4</th>\n",
              "      <td>18419_134</td>\n",
              "      <td>18419</td>\n",
              "      <td>134</td>\n",
              "      <td>9.375</td>\n",
              "    </tr>\n",
              "    <tr>\n",
              "      <th>...</th>\n",
              "      <td>...</td>\n",
              "      <td>...</td>\n",
              "      <td>...</td>\n",
              "      <td>...</td>\n",
              "    </tr>\n",
              "    <tr>\n",
              "      <th>1092054</th>\n",
              "      <td>9517_132</td>\n",
              "      <td>9517</td>\n",
              "      <td>132</td>\n",
              "      <td>3.156</td>\n",
              "    </tr>\n",
              "    <tr>\n",
              "      <th>1092055</th>\n",
              "      <td>27767_118</td>\n",
              "      <td>27767</td>\n",
              "      <td>118</td>\n",
              "      <td>-1.594</td>\n",
              "    </tr>\n",
              "    <tr>\n",
              "      <th>1092056</th>\n",
              "      <td>10580_81</td>\n",
              "      <td>10580</td>\n",
              "      <td>81</td>\n",
              "      <td>2.000</td>\n",
              "    </tr>\n",
              "    <tr>\n",
              "      <th>1092057</th>\n",
              "      <td>31007_119</td>\n",
              "      <td>31007</td>\n",
              "      <td>119</td>\n",
              "      <td>8.906</td>\n",
              "    </tr>\n",
              "    <tr>\n",
              "      <th>1092058</th>\n",
              "      <td>8420_98</td>\n",
              "      <td>8420</td>\n",
              "      <td>98</td>\n",
              "      <td>-3.344</td>\n",
              "    </tr>\n",
              "  </tbody>\n",
              "</table>\n",
              "<p>1092059 rows × 4 columns</p>\n",
              "</div>"
            ],
            "text/plain": [
              "                id  user_id  joke_id  Rating\n",
              "0        31030_110    31030      110   2.750\n",
              "1        16144_109    16144      109   5.094\n",
              "2          23098_6    23098        6  -6.438\n",
              "3         14273_86    14273       86   4.406\n",
              "4        18419_134    18419      134   9.375\n",
              "...            ...      ...      ...     ...\n",
              "1092054   9517_132     9517      132   3.156\n",
              "1092055  27767_118    27767      118  -1.594\n",
              "1092056   10580_81    10580       81   2.000\n",
              "1092057  31007_119    31007      119   8.906\n",
              "1092058    8420_98     8420       98  -3.344\n",
              "\n",
              "[1092059 rows x 4 columns]"
            ]
          },
          "metadata": {
            "tags": []
          },
          "execution_count": 16
        }
      ]
    },
    {
      "cell_type": "code",
      "metadata": {
        "colab": {
          "base_uri": "https://localhost:8080/",
          "height": 204
        },
        "id": "sVlRdbPOtlkb",
        "outputId": "c7e51cf6-82a8-459b-d606-0a122eb9c60b"
      },
      "source": [
        "jokes.head()"
      ],
      "execution_count": null,
      "outputs": [
        {
          "output_type": "execute_result",
          "data": {
            "text/html": [
              "<div>\n",
              "<style scoped>\n",
              "    .dataframe tbody tr th:only-of-type {\n",
              "        vertical-align: middle;\n",
              "    }\n",
              "\n",
              "    .dataframe tbody tr th {\n",
              "        vertical-align: top;\n",
              "    }\n",
              "\n",
              "    .dataframe thead th {\n",
              "        text-align: right;\n",
              "    }\n",
              "</style>\n",
              "<table border=\"1\" class=\"dataframe\">\n",
              "  <thead>\n",
              "    <tr style=\"text-align: right;\">\n",
              "      <th></th>\n",
              "      <th>joke_id</th>\n",
              "      <th>joke_text</th>\n",
              "    </tr>\n",
              "  </thead>\n",
              "  <tbody>\n",
              "    <tr>\n",
              "      <th>0</th>\n",
              "      <td>1</td>\n",
              "      <td>Q. What's O. J. Simpson's web address? A. Slas...</td>\n",
              "    </tr>\n",
              "    <tr>\n",
              "      <th>1</th>\n",
              "      <td>2</td>\n",
              "      <td>How many feminists does it take to screw in a ...</td>\n",
              "    </tr>\n",
              "    <tr>\n",
              "      <th>2</th>\n",
              "      <td>3</td>\n",
              "      <td>Q. Did you hear about the dyslexic devil worsh...</td>\n",
              "    </tr>\n",
              "    <tr>\n",
              "      <th>3</th>\n",
              "      <td>4</td>\n",
              "      <td>They asked the Japanese visitor if they have e...</td>\n",
              "    </tr>\n",
              "    <tr>\n",
              "      <th>4</th>\n",
              "      <td>5</td>\n",
              "      <td>Q: What did the blind person say when given so...</td>\n",
              "    </tr>\n",
              "  </tbody>\n",
              "</table>\n",
              "</div>"
            ],
            "text/plain": [
              "   joke_id                                          joke_text\n",
              "0        1  Q. What's O. J. Simpson's web address? A. Slas...\n",
              "1        2  How many feminists does it take to screw in a ...\n",
              "2        3  Q. Did you hear about the dyslexic devil worsh...\n",
              "3        4  They asked the Japanese visitor if they have e...\n",
              "4        5  Q: What did the blind person say when given so..."
            ]
          },
          "metadata": {
            "tags": []
          },
          "execution_count": 17
        }
      ]
    },
    {
      "cell_type": "code",
      "metadata": {
        "colab": {
          "base_uri": "https://localhost:8080/"
        },
        "id": "Ffl424Ahts7W",
        "outputId": "25e518a2-5500-422c-db22-a711debae0ed"
      },
      "source": [
        "# Size of the data \n",
        "train.shape, test.shape"
      ],
      "execution_count": null,
      "outputs": [
        {
          "output_type": "execute_result",
          "data": {
            "text/plain": [
              "((1092059, 4), (537880, 3))"
            ]
          },
          "metadata": {
            "tags": []
          },
          "execution_count": 18
        }
      ]
    },
    {
      "cell_type": "code",
      "metadata": {
        "colab": {
          "base_uri": "https://localhost:8080/",
          "height": 282
        },
        "id": "6Zk8ZTiMt5nf",
        "outputId": "d29a8a7b-7c16-40e7-d968-070f9b215134"
      },
      "source": [
        "train['Rating'].hist();"
      ],
      "execution_count": null,
      "outputs": [
        {
          "output_type": "display_data",
          "data": {
            "image/png": "[encoded data removed]",
            "text/plain": [
              "<Figure size 432x288 with 1 Axes>"
            ]
          },
          "metadata": {
            "tags": []
          }
        }
      ]
    },
    {
      "cell_type": "markdown",
      "metadata": {
        "id": "2PfwC_I2FyuV"
      },
      "source": [
        "**Loading Data**"
      ]
    },
    {
      "cell_type": "code",
      "metadata": {
        "id": "5gM2WvJnvjhw"
      },
      "source": [
        "reader = Reader(rating_scale=(-10, 10))\n",
        "data = Dataset.load_from_df(train.iloc[:,1:4], reader)\n",
        "train_set, val_set = train_test_split(data, test_size=0.15)"
      ],
      "execution_count": null,
      "outputs": []
    },
    {
      "cell_type": "markdown",
      "metadata": {
        "id": "FMFiCq5OvzuN"
      },
      "source": [
        "**Parameter Optimization with GridSearchCV**"
      ]
    },
    {
      "cell_type": "code",
      "metadata": {
        "id": "RocWaqDrvuBb"
      },
      "source": [
        "# pg_SVD = {'n_factors': [50, 100, 150],\n",
        "#           'n_epochs': [10, 20, 30, 40, 50], \n",
        "#           'lr_all': [0.005, 0.001, 0.01, 0.1], \n",
        "#           'reg_all': [0.1, 0.2, 0.04, 0.06]}\n",
        "\n",
        "# gs_SVD = GridSearchCV(SVD, pg_SVD, measures=['rmse'], cv=3)\n",
        "# gs_SVD.fit(data)"
      ],
      "execution_count": null,
      "outputs": []
    },
    {
      "cell_type": "code",
      "metadata": {
        "id": "Zik6L3BRv81V"
      },
      "source": [
        "# print(gs_SVD.best_score['rmse'])\n",
        "# print(gs_SVD.best_params['rmse'])"
      ],
      "execution_count": null,
      "outputs": []
    },
    {
      "cell_type": "code",
      "metadata": {
        "id": "L2rcybLGZDn_"
      },
      "source": [
        "# hyp_params = gs_SVD.best_params['rmse']"
      ],
      "execution_count": null,
      "outputs": []
    },
    {
      "cell_type": "code",
      "metadata": {
        "id": "cXWbC5MVv9AA",
        "colab": {
          "base_uri": "https://localhost:8080/"
        },
        "outputId": "27596d8f-8725-4180-d5d0-d9d8349db9d4"
      },
      "source": [
        "svd = SVD(n_epochs = 30, \n",
        "          lr_all = 0.001,\n",
        "          reg_all = 0.1, random_state=6)\n",
        "\n",
        "svd.fit(train_set)"
      ],
      "execution_count": null,
      "outputs": [
        {
          "output_type": "execute_result",
          "data": {
            "text/plain": [
              "<surprise.prediction_algorithms.matrix_factorization.SVD at 0x7fe93f731190>"
            ]
          },
          "metadata": {
            "tags": []
          },
          "execution_count": 28
        }
      ]
    },
    {
      "cell_type": "code",
      "metadata": {
        "id": "DX09CvgAwBLx"
      },
      "source": [
        "predictions = svd.test(val_set)"
      ],
      "execution_count": null,
      "outputs": []
    },
    {
      "cell_type": "code",
      "metadata": {
        "id": "R_MYRbO4v9DA",
        "colab": {
          "base_uri": "https://localhost:8080/"
        },
        "outputId": "df12e3d2-0859-49f5-fbb9-edc48507cd53"
      },
      "source": [
        "from surprise import accuracy\n",
        "accuracy.rmse(predictions)"
      ],
      "execution_count": null,
      "outputs": [
        {
          "output_type": "stream",
          "text": [
            "RMSE: 4.0293\n"
          ],
          "name": "stdout"
        },
        {
          "output_type": "execute_result",
          "data": {
            "text/plain": [
              "4.02927295252266"
            ]
          },
          "metadata": {
            "tags": []
          },
          "execution_count": 30
        }
      ]
    },
    {
      "cell_type": "code",
      "metadata": {
        "id": "u2L2uhBxwIGg"
      },
      "source": [
        "test_prediction = [(test.iloc[i,0],test.iloc[i,1],test.iloc[i,2],\n",
        "                    svd.predict(test.iloc[i,1],test.iloc[i,2]).est) for i in range(test.shape[0]) ]"
      ],
      "execution_count": null,
      "outputs": []
    },
    {
      "cell_type": "code",
      "metadata": {
        "id": "DwWI2Yl2wIJR"
      },
      "source": [
        "preds_df = pd.DataFrame(test_prediction,columns=['id','user_id','joke_id','Rating'])"
      ],
      "execution_count": null,
      "outputs": []
    },
    {
      "cell_type": "code",
      "metadata": {
        "id": "agQApoLTPLiq"
      },
      "source": [
        "ss['Rating'] = preds_df['Rating']"
      ],
      "execution_count": null,
      "outputs": []
    },
    {
      "cell_type": "code",
      "metadata": {
        "colab": {
          "base_uri": "https://localhost:8080/",
          "height": 419
        },
        "id": "ZaD0tTOQPYIb",
        "outputId": "bd5a33e1-2d2f-4337-acee-916e930bbdb6"
      },
      "source": [
        "ss"
      ],
      "execution_count": null,
      "outputs": [
        {
          "output_type": "execute_result",
          "data": {
            "text/html": [
              "<div>\n",
              "<style scoped>\n",
              "    .dataframe tbody tr th:only-of-type {\n",
              "        vertical-align: middle;\n",
              "    }\n",
              "\n",
              "    .dataframe tbody tr th {\n",
              "        vertical-align: top;\n",
              "    }\n",
              "\n",
              "    .dataframe thead th {\n",
              "        text-align: right;\n",
              "    }\n",
              "</style>\n",
              "<table border=\"1\" class=\"dataframe\">\n",
              "  <thead>\n",
              "    <tr style=\"text-align: right;\">\n",
              "      <th></th>\n",
              "      <th>id</th>\n",
              "      <th>Rating</th>\n",
              "    </tr>\n",
              "  </thead>\n",
              "  <tbody>\n",
              "    <tr>\n",
              "      <th>0</th>\n",
              "      <td>6194_11</td>\n",
              "      <td>2.812619</td>\n",
              "    </tr>\n",
              "    <tr>\n",
              "      <th>1</th>\n",
              "      <td>19356_3</td>\n",
              "      <td>-0.345342</td>\n",
              "    </tr>\n",
              "    <tr>\n",
              "      <th>2</th>\n",
              "      <td>23426_79</td>\n",
              "      <td>5.428989</td>\n",
              "    </tr>\n",
              "    <tr>\n",
              "      <th>3</th>\n",
              "      <td>40030_3</td>\n",
              "      <td>-6.007027</td>\n",
              "    </tr>\n",
              "    <tr>\n",
              "      <th>4</th>\n",
              "      <td>19806_115</td>\n",
              "      <td>7.462484</td>\n",
              "    </tr>\n",
              "    <tr>\n",
              "      <th>...</th>\n",
              "      <td>...</td>\n",
              "      <td>...</td>\n",
              "    </tr>\n",
              "    <tr>\n",
              "      <th>537875</th>\n",
              "      <td>14333_74</td>\n",
              "      <td>-5.830844</td>\n",
              "    </tr>\n",
              "    <tr>\n",
              "      <th>537876</th>\n",
              "      <td>25245_16</td>\n",
              "      <td>7.529488</td>\n",
              "    </tr>\n",
              "    <tr>\n",
              "      <th>537877</th>\n",
              "      <td>4082_9</td>\n",
              "      <td>-0.788564</td>\n",
              "    </tr>\n",
              "    <tr>\n",
              "      <th>537878</th>\n",
              "      <td>19638_128</td>\n",
              "      <td>6.344409</td>\n",
              "    </tr>\n",
              "    <tr>\n",
              "      <th>537879</th>\n",
              "      <td>40665_26</td>\n",
              "      <td>-0.590741</td>\n",
              "    </tr>\n",
              "  </tbody>\n",
              "</table>\n",
              "<p>537880 rows × 2 columns</p>\n",
              "</div>"
            ],
            "text/plain": [
              "               id    Rating\n",
              "0         6194_11  2.812619\n",
              "1         19356_3 -0.345342\n",
              "2        23426_79  5.428989\n",
              "3         40030_3 -6.007027\n",
              "4       19806_115  7.462484\n",
              "...           ...       ...\n",
              "537875   14333_74 -5.830844\n",
              "537876   25245_16  7.529488\n",
              "537877     4082_9 -0.788564\n",
              "537878  19638_128  6.344409\n",
              "537879   40665_26 -0.590741\n",
              "\n",
              "[537880 rows x 2 columns]"
            ]
          },
          "metadata": {
            "tags": []
          },
          "execution_count": 34
        }
      ]
    },
    {
      "cell_type": "code",
      "metadata": {
        "id": "sQP92136wIL9"
      },
      "source": [
        "ss.to_csv(\"submission.csv\",index=False,header=ss.columns)"
      ],
      "execution_count": null,
      "outputs": []
    },
    {
      "cell_type": "code",
      "metadata": {
        "id": "eiyOe-rmwQRn",
        "colab": {
          "base_uri": "https://localhost:8080/",
          "height": 17
        },
        "outputId": "13fa9306-18ad-4e54-fe29-8a549d88923e"
      },
      "source": [
        "# Download\n",
        "from google.colab import files        \n",
        "files.download('submission.csv')"
      ],
      "execution_count": null,
      "outputs": [
        {
          "output_type": "display_data",
          "data": {
            "application/javascript": [
              "\n",
              "    async function download(id, filename, size) {\n",
              "      if (!google.colab.kernel.accessAllowed) {\n",
              "        return;\n",
              "      }\n",
              "      const div = document.createElement('div');\n",
              "      const label = document.createElement('label');\n",
              "      label.textContent = `Downloading \"${filename}\": `;\n",
              "      div.appendChild(label);\n",
              "      const progress = document.createElement('progress');\n",
              "      progress.max = size;\n",
              "      div.appendChild(progress);\n",
              "      document.body.appendChild(div);\n",
              "\n",
              "      const buffers = [];\n",
              "      let downloaded = 0;\n",
              "\n",
              "      const channel = await google.colab.kernel.comms.open(id);\n",
              "      // Send a message to notify the kernel that we're ready.\n",
              "      channel.send({})\n",
              "\n",
              "      for await (const message of channel.messages) {\n",
              "        // Send a message to notify the kernel that we're ready.\n",
              "        channel.send({})\n",
              "        if (message.buffers) {\n",
              "          for (const buffer of message.buffers) {\n",
              "            buffers.push(buffer);\n",
              "            downloaded += buffer.byteLength;\n",
              "            progress.value = downloaded;\n",
              "          }\n",
              "        }\n",
              "      }\n",
              "      const blob = new Blob(buffers, {type: 'application/binary'});\n",
              "      const a = document.createElement('a');\n",
              "      a.href = window.URL.createObjectURL(blob);\n",
              "      a.download = filename;\n",
              "      div.appendChild(a);\n",
              "      a.click();\n",
              "      div.remove();\n",
              "    }\n",
              "  "
            ],
            "text/plain": [
              "<IPython.core.display.Javascript object>"
            ]
          },
          "metadata": {
            "tags": []
          }
        },
        {
          "output_type": "display_data",
          "data": {
            "application/javascript": [
              "download(\"download_d3f59f89-4fc4-46f3-956f-570986988a5b\", \"submission.csv\", 14827667)"
            ],
            "text/plain": [
              "<IPython.core.display.Javascript object>"
            ]
          },
          "metadata": {
            "tags": []
          }
        }
      ]
    },
    {
      "cell_type": "code",
      "metadata": {
        "id": "hQCmZQrqo_hG"
      },
      "source": [
        ""
      ],
      "execution_count": null,
      "outputs": []
    }
  ]
}